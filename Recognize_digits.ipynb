{
 "cells": [
  {
   "cell_type": "code",
   "execution_count": null,
   "metadata": {},
   "outputs": [],
   "source": [
    "import soundfile as sf\n",
    "import os\n",
    "from python_speech_features import mfcc\n",
    "from python_speech_features.sigproc import magspec\n",
    "import matplotlib.pyplot as plt\n",
    "import numpy as np\n",
    "from numpy import sum, cumsum\n",
    "import IPython.display as disp"
   ]
  },
  {
   "cell_type": "code",
   "execution_count": null,
   "metadata": {},
   "outputs": [],
   "source": [
    "%matplotlib notebook"
   ]
  },
  {
   "cell_type": "code",
   "execution_count": null,
   "metadata": {},
   "outputs": [],
   "source": [
    "def play_signal(s, fs):\n",
    "    disp.display(disp.Audio(s, rate = fs))"
   ]
  },
  {
   "cell_type": "code",
   "execution_count": null,
   "metadata": {},
   "outputs": [],
   "source": [
    "def plot_signal(s):\n",
    "    plt.figure(figsize = (9,2))\n",
    "    plt.plot(s)\n",
    "    plt.tight_layout()\n",
    "\n",
    "def plot_features(feats):\n",
    "    plt.figure(figsize = (9,2))\n",
    "    plt.pcolormesh(feats.T)\n",
    "    plt.colorbar()\n",
    "    plt.tight_layout()\n",
    "    \n",
    "def plot_distances(dists, path = None):\n",
    "    plt.figure()\n",
    "    plt.pcolormesh(dists)\n",
    "    if path is not None:\n",
    "        plt.plot(path[:,1], path[:,0], color='r')\n",
    "    plt.colorbar()"
   ]
  },
  {
   "cell_type": "markdown",
   "metadata": {},
   "source": [
    "## Načti data"
   ]
  },
  {
   "cell_type": "code",
   "execution_count": null,
   "metadata": {},
   "outputs": [],
   "source": [
    "def read_audio(name):\n",
    "    datadir = 'data'\n",
    "    #datadir = '../merlin/homes/kazi/izmolikova'\n",
    "    s, fs = sf.read(os.path.join(datadir,f'{name}.wav'))\n",
    "    return s, fs"
   ]
  },
  {
   "cell_type": "code",
   "execution_count": null,
   "metadata": {},
   "outputs": [],
   "source": [
    "s1, fs = read_audio('man_ae_9a')\n",
    "s2, fs = read_audio('man_aw_9b')"
   ]
  },
  {
   "cell_type": "code",
   "execution_count": null,
   "metadata": {},
   "outputs": [],
   "source": [
    "play_signal(s1, fs)\n",
    "play_signal(s2, fs)"
   ]
  },
  {
   "cell_type": "code",
   "execution_count": null,
   "metadata": {},
   "outputs": [],
   "source": [
    "plot_signal(s1)\n",
    "plot_signal(s2)"
   ]
  },
  {
   "cell_type": "markdown",
   "metadata": {},
   "source": [
    "## Vypočítej příznaky"
   ]
  },
  {
   "cell_type": "code",
   "execution_count": null,
   "metadata": {},
   "outputs": [],
   "source": [
    "feats1 = mfcc(s1)\n",
    "feats2 = mfcc(s2)"
   ]
  },
  {
   "cell_type": "code",
   "execution_count": null,
   "metadata": {},
   "outputs": [],
   "source": [
    "plot_features(feats1)\n",
    "plot_features(feats2)"
   ]
  },
  {
   "cell_type": "markdown",
   "metadata": {},
   "source": [
    "## Vypočítej vzdálenosti"
   ]
  },
  {
   "cell_type": "code",
   "execution_count": null,
   "metadata": {},
   "outputs": [],
   "source": [
    "def vector_distance(v1, v2):\n",
    "    dist = sum((v1 - v2) ** 2)\n",
    "    return dist"
   ]
  },
  {
   "cell_type": "code",
   "execution_count": null,
   "metadata": {},
   "outputs": [],
   "source": [
    "def vector_distance_all_to_all(feats1, feats2):\n",
    "    dists = np.zeros((feats1.shape[0], feats2.shape[0]))\n",
    "\n",
    "    for i1 in range(feats1.shape[0]):\n",
    "        for i2 in range(feats2.shape[0]):\n",
    "            dists[i1,i2] = vector_distance(feats1[i1,:], feats2[i2,:])\n",
    "            \n",
    "    return dists"
   ]
  },
  {
   "cell_type": "code",
   "execution_count": null,
   "metadata": {},
   "outputs": [],
   "source": [
    "dists = vector_distance_all_to_all(feats1, feats2)"
   ]
  },
  {
   "cell_type": "code",
   "execution_count": null,
   "metadata": {},
   "outputs": [],
   "source": [
    "plot_distances(dists)"
   ]
  },
  {
   "cell_type": "markdown",
   "metadata": {},
   "source": [
    "## Vypočítej kumulované vzdálenosti"
   ]
  },
  {
   "cell_type": "code",
   "execution_count": null,
   "metadata": {},
   "outputs": [],
   "source": [
    "def dists_to_cumdists(dists):\n",
    "    # inicializuj matici kumulovanych vzdalenosti na nuly\n",
    "    cumdists = np.zeros((dists.shape[0], dists.shape[1]))\n",
    "    # inicializuj matici zpetnych ukazatelu na -1\n",
    "    directions = -1 * np.ones(cumdists.shape)\n",
    "    \n",
    "    # inicializuj prvni radek a sloupec\n",
    "    cumdists[:, 0] = cumsum(dists[:, 0])\n",
    "    cumdists[0, :] = cumsum(dists[0, :])\n",
    "    directions[1:, 0] = np.ones(directions[1:, 0].shape)\n",
    "    directions[0, 1:] = 2*np.ones(directions[0, 1:].shape)\n",
    "    \n",
    "        \n",
    "    for i1 in range(1, dists.shape[0]):\n",
    "        for i2 in range(1, dists.shape[1]):\n",
    "            d = dists[i1, i2]\n",
    "            \n",
    "            # spocitej 3 kandidaty na nejkratsi vzdalenost\n",
    "            cand1 = cumdists[i1-1, i2-1] + d*2\n",
    "            cand2 = cumdists[i1-1, i2] + d\n",
    "            cand3 = cumdists[i1, i2-1] + d\n",
    "            \n",
    "            # vyber nejkratsi vzdalenost\n",
    "            # uloz vzdalenost a zpetny ukazatel\n",
    "            cumdists[i1, i2] = np.min([cand1, cand2, cand3])\n",
    "            directions[i1, i2] = np.argmin([cand1, cand2, cand3])\n",
    "    \n",
    "    return cumdists, directions"
   ]
  },
  {
   "cell_type": "code",
   "execution_count": null,
   "metadata": {},
   "outputs": [],
   "source": [
    "cumdists, directions = dists_to_cumdists(dists)"
   ]
  },
  {
   "cell_type": "markdown",
   "metadata": {},
   "source": [
    "## Vypočítej nejlepší cestu"
   ]
  },
  {
   "cell_type": "code",
   "execution_count": null,
   "metadata": {},
   "outputs": [],
   "source": [
    "def backtrack_path(directions):\n",
    "    coor_cur = (directions.shape[0] - 1, directions.shape[1] - 1)\n",
    "    path = [coor_cur]\n",
    "\n",
    "    while coor_cur != (0,0):\n",
    "        if directions[coor_cur] == 0:\n",
    "            coor_next = (coor_cur[0] - 1, coor_cur[1] - 1)\n",
    "        elif directions[coor_cur] == 1:\n",
    "            coor_next = (coor_cur[0] - 1, coor_cur[1])\n",
    "        elif directions[coor_cur] == 2:\n",
    "            coor_next = (coor_cur[0], coor_cur[1] - 1)\n",
    "\n",
    "        path.append(coor_next)\n",
    "        coor_cur = coor_next\n",
    "\n",
    "    path.reverse()\n",
    "    path = np.array(path)\n",
    "    \n",
    "    return path"
   ]
  },
  {
   "cell_type": "code",
   "execution_count": null,
   "metadata": {},
   "outputs": [],
   "source": [
    "def best_path_cost(cumdists):\n",
    "    return cumdists[-1,-1] / (cumdists.shape[0] + cumdists.shape[1])"
   ]
  },
  {
   "cell_type": "code",
   "execution_count": null,
   "metadata": {},
   "outputs": [],
   "source": [
    "path = backtrack_path(directions)\n",
    "cost = best_path_cost(cumdists)"
   ]
  },
  {
   "cell_type": "code",
   "execution_count": null,
   "metadata": {},
   "outputs": [],
   "source": [
    "plot_distances(cumdists, path)"
   ]
  },
  {
   "cell_type": "code",
   "execution_count": null,
   "metadata": {},
   "outputs": [],
   "source": [
    "cost"
   ]
  },
  {
   "cell_type": "markdown",
   "metadata": {},
   "source": [
    "## Zabal vsechno do jedne funkce"
   ]
  },
  {
   "cell_type": "code",
   "execution_count": null,
   "metadata": {},
   "outputs": [],
   "source": [
    "def dtw(file1, file2):\n",
    "    # nacti audio\n",
    "    s1, fs = read_audio(file1)\n",
    "    s2, fs = read_audio(file2)\n",
    "    \n",
    "    # vypocitej featury\n",
    "    feats1 = mfcc(s1)\n",
    "    feats2 = mfcc(s2)\n",
    "    \n",
    "    # vypocitej vzdalenosti\n",
    "    dists = vector_distance_all_to_all(feats1, feats2)\n",
    "    \n",
    "    # vypocitej kumulovane vzdalenosti\n",
    "    cumdists, directions = dists_to_cumdists(dists)\n",
    "    \n",
    "    # vypocitej nejlevnejsi cestu\n",
    "    path = backtrack_path(directions)\n",
    "    \n",
    "    # vypocitej cenu cesty\n",
    "    cost = best_path_cost(cumdists)\n",
    "    \n",
    "    middle_products = [s1, s2, fs, feats1, feats2, dists, cumdists, directions, path]\n",
    "    return cost, middle_products"
   ]
  },
  {
   "cell_type": "code",
   "execution_count": null,
   "metadata": {},
   "outputs": [],
   "source": [
    "d, mid = dtw('man_ae_9a', 'man_aw_9b')\n",
    "d"
   ]
  },
  {
   "cell_type": "code",
   "execution_count": null,
   "metadata": {},
   "outputs": [],
   "source": [
    "s1, s2, fs, feats1, feats2, dists, cumdists, directions, path = mid"
   ]
  },
  {
   "cell_type": "code",
   "execution_count": null,
   "metadata": {},
   "outputs": [],
   "source": [
    "plot_distances(dists, path)"
   ]
  },
  {
   "cell_type": "markdown",
   "metadata": {},
   "source": [
    "## Rozpoznej číslovku"
   ]
  },
  {
   "cell_type": "code",
   "execution_count": null,
   "metadata": {},
   "outputs": [],
   "source": [
    "refs = ['man_cb_za', 'woman_ac_1b', 'woman_ca_2a', 'man_cf_3b', 'man_al_4a',\n",
    "       'woman_ac_5b', 'man_dl_6b', 'man_cr_7a', 'woman_bh_8a', 'woman_cg_9a']\n",
    "\n",
    "test = 'woman_bi_8a'\n",
    "\n",
    "rec_dists = []\n",
    "for ref in refs:\n",
    "    d = dtw(test, ref)[0]\n",
    "    rec_dists.append(d)"
   ]
  },
  {
   "cell_type": "code",
   "execution_count": null,
   "metadata": {},
   "outputs": [],
   "source": [
    "rec_dists"
   ]
  }
 ],
 "metadata": {
  "kernelspec": {
   "display_name": "Python 3",
   "language": "python",
   "name": "python3"
  },
  "language_info": {
   "codemirror_mode": {
    "name": "ipython",
    "version": 3
   },
   "file_extension": ".py",
   "mimetype": "text/x-python",
   "name": "python",
   "nbconvert_exporter": "python",
   "pygments_lexer": "ipython3",
   "version": "3.6.8"
  }
 },
 "nbformat": 4,
 "nbformat_minor": 2
}
